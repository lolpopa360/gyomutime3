{
  "cells": [
    {
      "cell_type": "markdown",
      "metadata": {},
      "source": [
        "# Gyomutime • Timetable Notebook\n",
        "n8n에서 생성된 노트북입니다. '런타임' → '모두 실행'으로 실행하세요."
      ]
    },
    {
      "cell_type": "code",
      "execution_count": null,
      "metadata": {},
      "outputs": [],
      "source": [
        "!pip -q install gdown pandas ortools"
      ]
    },
    {
      "cell_type": "code",
      "execution_count": null,
      "metadata": {},
      "outputs": [],
      "source": [
        "import json, os, pathlib as p\n",
        "DATA_FILE_ID = \"<<<DATA_FILE_ID>>>\"\n",
        "PARAMS = json.loads(\"""<<<PARAMS_JSON>>>""\")\n",
        "print('PARAMS:', PARAMS)\n",
        "import gdown\n",
        "gdown.download(f'https://drive.google.com/uc?id={DATA_FILE_ID}', 'input_data', quiet=False)\n",
        "print('Downloaded files:', os.listdir('.'))"
      ]
    },
    {
      "cell_type": "code",
      "execution_count": null,
      "metadata": {},
      "outputs": [],
      "source": [
        "# TODO: 여기에 실제 시간표 최적화 알고리즘을 넣으세요.\n",
        "# 아래는 데모용 결과 파일 생성 예시입니다.\n",
        "from pathlib import Path\n",
        "Path('results').mkdir(exist_ok=True)\n",
        "with open('results/timetable_result.txt', 'w', encoding='utf-8') as f:\n",
        "    f.write('시간표 최적화 데모 결과 – 파라미터: ' + json.dumps(PARAMS, ensure_ascii=False))\n",
        "print('results/timetable_result.txt 파일이 생성되었습니다.')"
      ]
    },
    {
      "cell_type": "code",
      "execution_count": null,
      "metadata": {},
      "outputs": [],
      "source": [
        "# Colab 환경에서는 아래로 결과 파일을 다운로드할 수 있습니다.\n",
        "try:\n",
        "    from google.colab import files\n",
        "    files.download('results/timetable_result.txt')\n",
        "except Exception as e:\n",
        "    print('다운로드 안내:', e)"
      ]
    }
  ],
  "metadata": {
    "colab": { "name": "Gyomutime_Timetable_Auto.ipynb" },
    "kernelspec": { "display_name": "Python 3", "name": "python3" },
    "language_info": { "name": "python" }
  },
  "nbformat": 4,
  "nbformat_minor": 5
}

